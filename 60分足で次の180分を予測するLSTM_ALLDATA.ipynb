{
  "nbformat": 4,
  "nbformat_minor": 0,
  "metadata": {
    "colab": {
      "name": "60分足で次の180分を予測するLSTM-ALLDATA.ipynb",
      "provenance": [],
      "collapsed_sections": [],
      "mount_file_id": "12SXnLRXQdfPrCHvMA63aeFhNRJhtrhb3",
      "authorship_tag": "ABX9TyOG6ZMUhD5nouMVRr4Vg7Fr",
      "include_colab_link": true
    },
    "kernelspec": {
      "name": "python3",
      "display_name": "Python 3"
    },
    "language_info": {
      "name": "python"
    },
    "accelerator": "GPU"
  },
  "cells": [
    {
      "cell_type": "markdown",
      "metadata": {
        "id": "view-in-github",
        "colab_type": "text"
      },
      "source": [
        "<a href=\"https://colab.research.google.com/github/sishinami/usdjpy/blob/main/60%E5%88%86%E8%B6%B3%E3%81%A7%E6%AC%A1%E3%81%AE180%E5%88%86%E3%82%92%E4%BA%88%E6%B8%AC%E3%81%99%E3%82%8BLSTM_ALLDATA.ipynb\" target=\"_parent\"><img src=\"https://colab.research.google.com/assets/colab-badge.svg\" alt=\"Open In Colab\"/></a>"
      ]
    },
    {
      "cell_type": "code",
      "metadata": {
        "id": "vjdr2l3-he9C"
      },
      "source": [
        "import os\n",
        "import pandas as pd\n",
        "import numpy as np\n",
        "from keras.models import Sequential\n",
        "from keras.layers import Dense, Activation, SimpleRNN\n",
        "import matplotlib.pyplot as plt\n",
        "from sklearn.preprocessing import MinMaxScaler\n",
        "from datetime import datetime\n",
        "import pandas as pd"
      ],
      "execution_count": 1,
      "outputs": []
    },
    {
      "cell_type": "markdown",
      "metadata": {
        "id": "4PF_26NCP1Rq"
      },
      "source": [
        "LSTM で 試してみるが、Ｌｏｓｓが少なすぎて怪しすぎる。原因調査が必要\n"
      ]
    },
    {
      "cell_type": "code",
      "metadata": {
        "id": "gtjxPBZGM1jE"
      },
      "source": [
        "save_model_name = 'drive/MyDrive/USDJPY/21-0413-alldata/'  # 保存しておくモデルの名前\n",
        "EPOCH = 10      # 学習エポック\n",
        "TRAIN_RATE = 0.9  # 全データ中の学習用データの割合 - 元データが多いので 0.9を学習に回す\n",
        "BATCH_SIZE = 32 \n"
      ],
      "execution_count": 2,
      "outputs": []
    },
    {
      "cell_type": "code",
      "metadata": {
        "id": "qC_y8aZWjSU6"
      },
      "source": [
        "df = pd.read_csv('drive/MyDrive/USDJPY/USDJPYmin.csv'\n",
        "  ,header=None\n",
        "  , names=['date','time','start','takane','yasune','end','dekidaka'])"
      ],
      "execution_count": 3,
      "outputs": []
    },
    {
      "cell_type": "code",
      "metadata": {
        "id": "Wa3LtbjDhe_a"
      },
      "source": [
        "# 標準化\n",
        "y = np.array(df[\"end\"].tolist())\n",
        "sc = MinMaxScaler(feature_range=(0, 1)) \n",
        "y = y.reshape(-1, 1)\n",
        "y = sc.fit_transform(y)\n",
        "\n",
        "x = np.arange(len(y))\n",
        "\n",
        "# 60分足で 次の180分後を予測する\n",
        "input_len = 60\n",
        "\n",
        "X, Y = [], []\n",
        "for i, _ in enumerate(x):\n",
        "    if (i+input_len+180 >= len(x)):\n",
        "        break\n",
        "    X.append(y[i:i+input_len])\n",
        "    Y.append(y[i+input_len+180][0])"
      ],
      "execution_count": 4,
      "outputs": []
    },
    {
      "cell_type": "code",
      "metadata": {
        "id": "pG4kIFejE7fw"
      },
      "source": [
        "import pickle\n",
        "\n",
        "with open('drive/MyDrive/USDJPY/MinMaxScaler.pickle', mode='wb') as f: \n",
        "    pickle.dump(sc, f)  \n",
        "\n"
      ],
      "execution_count": 5,
      "outputs": []
    },
    {
      "cell_type": "code",
      "metadata": {
        "id": "XbCPgvF8hfB4"
      },
      "source": [
        "\n",
        "split_index = int(len(X)*TRAIN_RATE)\n",
        "# 学習・テスト用データに分割 未来データを予測したいので 単純に先っぽの方をテストに回す\n",
        "train_x = X[:split_index]\n",
        "train_y = Y[:split_index]\n",
        "test_x = X[split_index:]\n",
        "test_y = Y[split_index:]\n",
        "\n",
        "train_x = np.array(train_x).reshape(len(train_x), -1, 1)\n",
        "test_x = np.array(test_x).reshape(len(test_x), -1, 1)\n",
        "train_y = np.array(train_y).reshape(len(train_y))"
      ],
      "execution_count": 6,
      "outputs": []
    },
    {
      "cell_type": "code",
      "metadata": {
        "colab": {
          "base_uri": "https://localhost:8080/"
        },
        "id": "jDZq_A3dhfD9",
        "outputId": "4153e3bf-21b8-4d0f-ab24-bae93d6c48f4"
      },
      "source": [
        "from tensorflow.keras.models import Sequential\n",
        "from tensorflow.keras.layers import Dense, LSTM\n",
        "\n",
        "\n",
        "NUM_DIM = 12  # 中間層の次元数 12の理由は特にない 適当 決め方誰か教えて\n",
        "\n",
        "model = Sequential()\n",
        "input_shape = (len(train_x[0]), 1)\n",
        "\n",
        "# return_sequenceFalse 最後のRNN層のみが出力を返す\n",
        "model.add(LSTM(NUM_DIM, input_shape=input_shape, return_sequences=False))\n",
        "model.add(Dense(1, activation=\"linear\"))  #全結合層 であってる？\n",
        "\n",
        "model.compile(loss=\"mean_squared_error\", optimizer=\"sgd\")\n",
        "model.summary()\n",
        "\n"
      ],
      "execution_count": 7,
      "outputs": [
        {
          "output_type": "stream",
          "text": [
            "Model: \"sequential\"\n",
            "_________________________________________________________________\n",
            "Layer (type)                 Output Shape              Param #   \n",
            "=================================================================\n",
            "lstm (LSTM)                  (None, 12)                672       \n",
            "_________________________________________________________________\n",
            "dense (Dense)                (None, 1)                 13        \n",
            "=================================================================\n",
            "Total params: 685\n",
            "Trainable params: 685\n",
            "Non-trainable params: 0\n",
            "_________________________________________________________________\n"
          ],
          "name": "stdout"
        }
      ]
    },
    {
      "cell_type": "code",
      "metadata": {
        "colab": {
          "base_uri": "https://localhost:8080/"
        },
        "id": "j-xgjuswjn7I",
        "outputId": "b5468b57-2d7c-416b-8a85-12bd875a5538"
      },
      "source": [
        "model.fit(train_x, train_y, batch_size=BATCH_SIZE, epochs=EPOCH, verbose=1)\n"
      ],
      "execution_count": 8,
      "outputs": [
        {
          "output_type": "stream",
          "text": [
            "Epoch 1/10\n",
            "164199/164199 [==============================] - 664s 4ms/step - loss: 6.0204e-04\n",
            "Epoch 2/10\n",
            "164199/164199 [==============================] - 626s 4ms/step - loss: 2.1853e-05\n",
            "Epoch 3/10\n",
            "164199/164199 [==============================] - 624s 4ms/step - loss: 2.1758e-05\n",
            "Epoch 4/10\n",
            "164199/164199 [==============================] - 621s 4ms/step - loss: 2.1716e-05\n",
            "Epoch 5/10\n",
            "164199/164199 [==============================] - 620s 4ms/step - loss: 2.1688e-05\n",
            "Epoch 6/10\n",
            "164199/164199 [==============================] - 622s 4ms/step - loss: 2.1620e-05\n",
            "Epoch 7/10\n",
            "164199/164199 [==============================] - 619s 4ms/step - loss: 2.1595e-05\n",
            "Epoch 8/10\n",
            "164199/164199 [==============================] - 620s 4ms/step - loss: 2.1638e-05\n",
            "Epoch 9/10\n",
            "164199/164199 [==============================] - 633s 4ms/step - loss: 2.1630e-05\n",
            "Epoch 10/10\n",
            "164199/164199 [==============================] - 635s 4ms/step - loss: 2.1561e-05\n"
          ],
          "name": "stdout"
        },
        {
          "output_type": "execute_result",
          "data": {
            "text/plain": [
              "<tensorflow.python.keras.callbacks.History at 0x7faa4018a450>"
            ]
          },
          "metadata": {
            "tags": []
          },
          "execution_count": 8
        }
      ]
    },
    {
      "cell_type": "code",
      "metadata": {
        "colab": {
          "base_uri": "https://localhost:8080/"
        },
        "id": "lBc6qKpbhfGd",
        "outputId": "f9a44d3f-fe27-4e9b-ce44-19459c76e6de"
      },
      "source": [
        "score = model.evaluate(test_x, np.array(test_y))\n"
      ],
      "execution_count": 9,
      "outputs": [
        {
          "output_type": "stream",
          "text": [
            "18245/18245 [==============================] - 47s 3ms/step - loss: 1.2285e-05\n"
          ],
          "name": "stdout"
        }
      ]
    },
    {
      "cell_type": "code",
      "metadata": {
        "colab": {
          "base_uri": "https://localhost:8080/"
        },
        "id": "8Hd-_4-pjvkc",
        "outputId": "d7c80f22-6bf9-4cee-be52-75df0f1a97d5"
      },
      "source": [
        "# train loss: 学習データに対する損失関数の値\n",
        "# → この値が小さくなると、学習ができている。\n",
        "# train accuracy: 学習データに対する分類の正答率\n",
        "# → 損失関数が小さいということは分類精度が高いということなので、「loss が下がるほど、accuracy が上がる」という関係\n",
        "# test loss: テストデータに対する損失関数の値\n",
        "# → この値が小さくなると、汎化性能が出ている。\n",
        "# test accuracy: テストデータに対する分類の正答率\n",
        "print(score)\n",
        "#1.822907324822154e-05  ほんとかよ？"
      ],
      "execution_count": 10,
      "outputs": [
        {
          "output_type": "stream",
          "text": [
            "1.2285098819120321e-05\n"
          ],
          "name": "stdout"
        }
      ]
    },
    {
      "cell_type": "code",
      "metadata": {
        "id": "hTrkA4CL_ev0"
      },
      "source": [
        "predict_y = model.predict(test_x)   # 予測値の抽出\n",
        "predict_y = sc.inverse_transform(predict_y)     # 元の値に戻す"
      ],
      "execution_count": 11,
      "outputs": []
    },
    {
      "cell_type": "code",
      "metadata": {
        "colab": {
          "base_uri": "https://localhost:8080/"
        },
        "id": "lU-T463VD3vr",
        "outputId": "8f7c836f-f6c9-42e4-cea5-1fe1d954bda8"
      },
      "source": [
        "model.save(save_model_name)"
      ],
      "execution_count": 12,
      "outputs": [
        {
          "output_type": "stream",
          "text": [
            "WARNING:absl:Found untraced functions such as lstm_cell_layer_call_and_return_conditional_losses, lstm_cell_layer_call_fn, lstm_cell_layer_call_fn, lstm_cell_layer_call_and_return_conditional_losses, lstm_cell_layer_call_and_return_conditional_losses while saving (showing 5 of 5). These functions will not be directly callable after loading.\n",
            "WARNING:absl:Found untraced functions such as lstm_cell_layer_call_and_return_conditional_losses, lstm_cell_layer_call_fn, lstm_cell_layer_call_fn, lstm_cell_layer_call_and_return_conditional_losses, lstm_cell_layer_call_and_return_conditional_losses while saving (showing 5 of 5). These functions will not be directly callable after loading.\n"
          ],
          "name": "stderr"
        },
        {
          "output_type": "stream",
          "text": [
            "INFO:tensorflow:Assets written to: drive/MyDrive/USDJPY/21-0413-alldata/assets\n"
          ],
          "name": "stdout"
        },
        {
          "output_type": "stream",
          "text": [
            "INFO:tensorflow:Assets written to: drive/MyDrive/USDJPY/21-0413-alldata/assets\n"
          ],
          "name": "stderr"
        }
      ]
    },
    {
      "cell_type": "markdown",
      "metadata": {
        "id": "6VmVOBU3cycl"
      },
      "source": [
        "ここから下は図にするところです"
      ]
    },
    {
      "cell_type": "code",
      "metadata": {
        "id": "0xMV2BdPTKD2"
      },
      "source": [
        "df['datetime'] = df['date'] + ' ' + df['time']"
      ],
      "execution_count": 13,
      "outputs": []
    },
    {
      "cell_type": "code",
      "metadata": {
        "id": "As3w_sw-TsV8"
      },
      "source": [
        "label_x = df[\"datetime\"].apply(lambda x: datetime.strptime(x, \"%Y.%m.%d %H:%M\"))"
      ],
      "execution_count": 14,
      "outputs": []
    },
    {
      "cell_type": "code",
      "metadata": {
        "id": "ua2pwqhQT2WJ"
      },
      "source": [
        "new_format = \"%Y-%m-%dT%H:%M\"\n",
        "label_x = label_x.apply(lambda x: x.strftime(new_format)).tolist()\n",
        "label_x = label_x[len(y)-len(test_y):]\n",
        "\n",
        "test_y = sc.inverse_transform(np.array(test_y).reshape(-1,1))\n",
        "test_y = test_y.reshape(len(test_y))"
      ],
      "execution_count": 15,
      "outputs": []
    },
    {
      "cell_type": "code",
      "metadata": {
        "id": "TFJyawOcY80D",
        "colab": {
          "base_uri": "https://localhost:8080/",
          "height": 328
        },
        "outputId": "f17004a9-5a11-4dae-89e1-7df0de6aa12b"
      },
      "source": [
        "import matplotlib as mpl\n",
        "\n",
        "fig = plt.figure()\n",
        "ax = fig.add_axes((0.2, 0.2, 0.6, 0.6))\n",
        "\n",
        "ax.plot(label_x, test_y, color = \"red\")\n",
        "ax.plot(label_x, predict_y, color = \"blue\")\n",
        "\n",
        "ax.xaxis.set_major_locator(mpl.ticker.AutoLocator())\n",
        "ax.yaxis.set_major_locator(mpl.ticker.AutoLocator())\n",
        "\n",
        "ax.set(xlim=(min(label_x),max(label_x)), ylim=(min(test_y), max(test_y)))\n",
        "plt.xticks(rotation=90)\n",
        "\n",
        "ax.set(xlabel=type(ax.xaxis.get_major_locator()),\n",
        "       ylabel=type(ax.yaxis.get_major_locator()))\n",
        "\n",
        "plt.show()"
      ],
      "execution_count": 16,
      "outputs": [
        {
          "output_type": "display_data",
          "data": {
            "image/png": "[encoded data removed]",
            "text/plain": [
              "<Figure size 432x288 with 1 Axes>"
            ]
          },
          "metadata": {
            "tags": [],
            "needs_background": "light"
          }
        }
      ]
    },
    {
      "cell_type": "code",
      "metadata": {
        "id": "5-qnR8HJZX0y"
      },
      "source": [
        ""
      ],
      "execution_count": 16,
      "outputs": []
    }
  ]
}
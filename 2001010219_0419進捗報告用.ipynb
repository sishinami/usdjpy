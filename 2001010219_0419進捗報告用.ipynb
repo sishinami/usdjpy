{
  "nbformat": 4,
  "nbformat_minor": 0,
  "metadata": {
    "colab": {
      "name": "2001010219_0419進捗報告用.ipynb",
      "provenance": [],
      "collapsed_sections": [],
      "mount_file_id": "1TGmXjeEpR2MlFJ1Cic8eERSjthLXCpmQ",
      "authorship_tag": "ABX9TyO6Bm+ph5KmRPYGGMdd1WhJ",
      "include_colab_link": true
    },
    "kernelspec": {
      "name": "python3",
      "display_name": "Python 3"
    },
    "language_info": {
      "name": "python"
    }
  },
  "cells": [
    {
      "cell_type": "markdown",
      "metadata": {
        "id": "view-in-github",
        "colab_type": "text"
      },
      "source": [
        "<a href=\"https://colab.research.google.com/github/sishinami/usdjpy/blob/main/2001010219_0419%E9%80%B2%E6%8D%97%E5%A0%B1%E5%91%8A%E7%94%A8.ipynb\" target=\"_parent\"><img src=\"https://colab.research.google.com/assets/colab-badge.svg\" alt=\"Open In Colab\"/></a>"
      ]
    },
    {
      "cell_type": "code",
      "metadata": {
        "id": "7_8_hBf4L6A6"
      },
      "source": [
        "# -*- coding: utf-8 -*-\n",
        "import pandas as pd\n",
        "import numpy as np\n",
        "from sklearn.linear_model import LogisticRegression\n",
        "from sklearn.metrics import confusion_matrix, accuracy_score, precision_score, recall_score, f1_score\n",
        "from sklearn.svm import SVC\n",
        "\n",
        "# df['res'] 増減値 の 0-60 を １ベクトルとする\n",
        "# 目的変数のは predict分経過時点で現時点より 上か下かの True False を使う\n",
        "def makevec(targetdf,vecsize=60,predict=30):\n",
        "    maxindex = len(targetdf)\n",
        "    resultvecs = []\n",
        "    for i in range(0,maxindex-predict-vecsize):\n",
        "        nowhajimari = targetdf.hajimari[i]\n",
        "        endhajimari = targetdf.hajimari[i+predict+vecsize]\n",
        "        y = (endhajimari-nowhajimari) > 0\n",
        "        resultvec = [y]\n",
        "        for j in range(0,vecsize):\n",
        "            resultvec.append(targetdf.res[i+j])\n",
        "        resultvecs.append(resultvec)\n",
        "    return resultvecs\n",
        "        \n",
        "def getscore(model,X_test,Y_test):\n",
        "    Y_pred = model.predict(testdf[xcol])\n",
        "\n",
        "    print('---------------------------------------------------------------')\n",
        "    print(model)\n",
        "    print('confusion matrix = \\n', confusion_matrix(y_true=Y_test, y_pred=Y_pred))\n",
        "    print('accuracy = ', accuracy_score(y_true=Y_test, y_pred=Y_pred))\n",
        "    print('precision = ', precision_score(y_true=Y_test, y_pred=Y_pred))\n",
        "    print('recall = ', recall_score(y_true=Y_test, y_pred=Y_pred))\n",
        "    print('f1 score = ', f1_score(y_true=Y_test, y_pred=Y_pred))\n"
      ],
      "execution_count": 4,
      "outputs": []
    },
    {
      "cell_type": "code",
      "metadata": {
        "id": "4b0SjCGZMjGI"
      },
      "source": [
        "\n",
        "# データ取得元\n",
        "# https://www.fxddtrading.com/bm/jp/resources/mt4-one-minute-data \n",
        "df = pd.read_csv('drive/MyDrive/USDJPYmin.csv'\n",
        "  ,header=None\n",
        "  , names=['date','time','hajimari','takane','yasune','end','dekidaka'])\n",
        "\n"
      ],
      "execution_count": 5,
      "outputs": []
    },
    {
      "cell_type": "code",
      "metadata": {
        "colab": {
          "base_uri": "https://localhost:8080/"
        },
        "id": "BP7uBEM-MmHb",
        "outputId": "75784b06-c63b-484d-8bd5-2b333f4c14f8"
      },
      "source": [
        "\n",
        "# 小さいモデルでテスト\n",
        "offset = 100*24*60 # 100日分\n",
        "df2 = df[0:offset]\n",
        "df2['res'] =df[1:offset+1]['hajimari'].reset_index(drop=True) - df2['hajimari'] # 1分前から増減値\n",
        "target_df = pd.DataFrame(np.array(makevec(df2,60,180))) # もっと小さくできそうな気もするが後でやろう\n",
        "\n"
      ],
      "execution_count": 6,
      "outputs": [
        {
          "output_type": "stream",
          "text": [
            "/usr/local/lib/python3.7/dist-packages/ipykernel_launcher.py:5: SettingWithCopyWarning: \n",
            "A value is trying to be set on a copy of a slice from a DataFrame.\n",
            "Try using .loc[row_indexer,col_indexer] = value instead\n",
            "\n",
            "See the caveats in the documentation: https://pandas.pydata.org/pandas-docs/stable/user_guide/indexing.html#returning-a-view-versus-a-copy\n",
            "  \"\"\"\n"
          ],
          "name": "stderr"
        }
      ]
    },
    {
      "cell_type": "code",
      "metadata": {
        "colab": {
          "base_uri": "https://localhost:8080/"
        },
        "id": "gfao-33fOCXp",
        "outputId": "9fb34ecd-01ad-4d30-dd18-6c61036e7400"
      },
      "source": [
        "\n",
        "# X,Y分離\n",
        "xcol = []\n",
        "for f in range(1,61):\n",
        "    xcol.append(f)\n",
        "\n",
        "\n",
        "# train test split\n",
        "traindf = target_df[:int(offset*0.7)]\n",
        "testdf = target_df[int(offset*0.7):]\n",
        "\n",
        "# LogisticRegression\n",
        "logreg = LogisticRegression()\n",
        "model = logreg.fit( traindf[xcol], traindf[0])\n",
        "getscore(model, testdf[xcol], testdf[0] )\n"
      ],
      "execution_count": 7,
      "outputs": [
        {
          "output_type": "stream",
          "text": [
            "---------------------------------------------------------------\n",
            "LogisticRegression(C=1.0, class_weight=None, dual=False, fit_intercept=True,\n",
            "                   intercept_scaling=1, l1_ratio=None, max_iter=100,\n",
            "                   multi_class='auto', n_jobs=None, penalty='l2',\n",
            "                   random_state=None, solver='lbfgs', tol=0.0001, verbose=0,\n",
            "                   warm_start=False)\n",
            "confusion matrix = \n",
            " [[13656  7313]\n",
            " [ 7094 14897]]\n",
            "accuracy =  0.6646415270018622\n",
            "precision =  0.6707339036470058\n",
            "recall =  0.6774134873357283\n",
            "f1 score =  0.6740571480283251\n"
          ],
          "name": "stdout"
        }
      ]
    },
    {
      "cell_type": "code",
      "metadata": {
        "colab": {
          "base_uri": "https://localhost:8080/"
        },
        "id": "Yys0L25AN0DV",
        "outputId": "d6294d1e-ba13-44fc-868c-106bddb8f97d"
      },
      "source": [
        "from sklearn.utils import all_estimators\n",
        "\n",
        "\n",
        "for (name, algorithm) in all_estimators(type_filter='classifier'):\n",
        "  try:\n",
        "    if (name == 'LinearSVC'):\n",
        "      clf = algorithm(max_iter=10000)\n",
        "    else:\n",
        "      clf = algorithm()\n",
        "    model = clf.fit(traindf[xcol], traindf[0])\n",
        "    print('------------' + name + '---------------')\n",
        "    getscore(model, testdf[xcol], testdf[0] )\n",
        "  except:\n",
        "    pass\n",
        "\n"
      ],
      "execution_count": null,
      "outputs": [
        {
          "output_type": "stream",
          "text": [
            "------------AdaBoostClassifier---------------\n",
            "---------------------------------------------------------------\n",
            "AdaBoostClassifier(algorithm='SAMME.R', base_estimator=None, learning_rate=1.0,\n",
            "                   n_estimators=50, random_state=None)\n",
            "confusion matrix = \n",
            " [[11467  9502]\n",
            " [ 7619 14372]]\n",
            "accuracy =  0.6014664804469274\n",
            "precision =  0.6019938007874676\n",
            "recall =  0.6535400845800555\n",
            "f1 score =  0.6267088193611686\n",
            "------------BaggingClassifier---------------\n",
            "---------------------------------------------------------------\n",
            "BaggingClassifier(base_estimator=None, bootstrap=True, bootstrap_features=False,\n",
            "                  max_features=1.0, max_samples=1.0, n_estimators=10,\n",
            "                  n_jobs=None, oob_score=False, random_state=None, verbose=0,\n",
            "                  warm_start=False)\n",
            "confusion matrix = \n",
            " [[13458  7511]\n",
            " [12011  9980]]\n",
            "accuracy =  0.5455772811918064\n",
            "precision =  0.5705791549939969\n",
            "recall =  0.45382201809831296\n",
            "f1 score =  0.5055468314675041\n",
            "------------BernoulliNB---------------\n",
            "---------------------------------------------------------------\n",
            "BernoulliNB(alpha=1.0, binarize=0.0, class_prior=None, fit_prior=True)\n",
            "confusion matrix = \n",
            " [[16201  4768]\n",
            " [14343  7648]]\n",
            "accuracy =  0.5551443202979516\n",
            "precision =  0.615979381443299\n",
            "recall =  0.3477786367150198\n",
            "f1 score =  0.44456069985758717\n",
            "------------CalibratedClassifierCV---------------\n",
            "---------------------------------------------------------------\n",
            "CalibratedClassifierCV(base_estimator=None, cv=None, method='sigmoid')\n",
            "confusion matrix = \n",
            " [[13709  7260]\n",
            " [ 7155 14836]]\n",
            "accuracy =  0.6644553072625698\n",
            "precision =  0.6714337436640115\n",
            "recall =  0.6746396253012596\n",
            "f1 score =  0.6730328668314922\n",
            "------------CategoricalNB---------------\n",
            "---------------------------------------------------------------\n",
            "CategoricalNB(alpha=1.0, class_prior=None, fit_prior=True)\n",
            "confusion matrix = \n",
            " [[    0 20969]\n",
            " [    0 21991]]\n",
            "accuracy =  0.5118947858472999\n",
            "precision =  0.5118947858472999\n",
            "recall =  1.0\n",
            "f1 score =  0.6771566257640375\n",
            "------------DecisionTreeClassifier---------------\n",
            "---------------------------------------------------------------\n",
            "DecisionTreeClassifier(ccp_alpha=0.0, class_weight=None, criterion='gini',\n",
            "                       max_depth=None, max_features=None, max_leaf_nodes=None,\n",
            "                       min_impurity_decrease=0.0, min_impurity_split=None,\n",
            "                       min_samples_leaf=1, min_samples_split=2,\n",
            "                       min_weight_fraction_leaf=0.0, presort='deprecated',\n",
            "                       random_state=None, splitter='best')\n",
            "confusion matrix = \n",
            " [[10880 10089]\n",
            " [10426 11565]]\n",
            "accuracy =  0.5224627560521415\n",
            "precision =  0.5340814630091438\n",
            "recall =  0.5258969578463917\n",
            "f1 score =  0.5299576125558484\n"
          ],
          "name": "stdout"
        },
        {
          "output_type": "stream",
          "text": [
            "/usr/local/lib/python3.7/dist-packages/sklearn/dummy.py:132: FutureWarning: The default value of strategy will change from stratified to prior in 0.24.\n",
            "  \"stratified to prior in 0.24.\", FutureWarning)\n"
          ],
          "name": "stderr"
        },
        {
          "output_type": "stream",
          "text": [
            "------------DummyClassifier---------------\n",
            "---------------------------------------------------------------\n",
            "DummyClassifier(constant=None, random_state=None, strategy='warn')\n",
            "confusion matrix = \n",
            " [[10510 10459]\n",
            " [10962 11029]]\n",
            "accuracy =  0.5013733705772812\n",
            "precision =  0.5132632166790767\n",
            "recall =  0.5015233504615525\n",
            "f1 score =  0.5073253754686171\n",
            "------------ExtraTreeClassifier---------------\n",
            "---------------------------------------------------------------\n",
            "ExtraTreeClassifier(ccp_alpha=0.0, class_weight=None, criterion='gini',\n",
            "                    max_depth=None, max_features='auto', max_leaf_nodes=None,\n",
            "                    min_impurity_decrease=0.0, min_impurity_split=None,\n",
            "                    min_samples_leaf=1, min_samples_split=2,\n",
            "                    min_weight_fraction_leaf=0.0, random_state=None,\n",
            "                    splitter='random')\n",
            "confusion matrix = \n",
            " [[10632 10337]\n",
            " [10456 11535]]\n",
            "accuracy =  0.5159916201117318\n",
            "precision =  0.5273866130212144\n",
            "recall =  0.5245327634032104\n",
            "f1 score =  0.525955816975583\n",
            "------------ExtraTreesClassifier---------------\n",
            "---------------------------------------------------------------\n",
            "ExtraTreesClassifier(bootstrap=False, ccp_alpha=0.0, class_weight=None,\n",
            "                     criterion='gini', max_depth=None, max_features='auto',\n",
            "                     max_leaf_nodes=None, max_samples=None,\n",
            "                     min_impurity_decrease=0.0, min_impurity_split=None,\n",
            "                     min_samples_leaf=1, min_samples_split=2,\n",
            "                     min_weight_fraction_leaf=0.0, n_estimators=100,\n",
            "                     n_jobs=None, oob_score=False, random_state=None, verbose=0,\n",
            "                     warm_start=False)\n",
            "confusion matrix = \n",
            " [[12106  8863]\n",
            " [ 8636 13355]]\n",
            "accuracy =  0.5926675977653632\n",
            "precision =  0.6010892069493203\n",
            "recall =  0.6072938929562094\n",
            "f1 score =  0.6041756203487978\n",
            "------------GaussianNB---------------\n",
            "---------------------------------------------------------------\n",
            "GaussianNB(priors=None, var_smoothing=1e-09)\n",
            "confusion matrix = \n",
            " [[ 5597 15372]\n",
            " [ 3363 18628]]\n",
            "accuracy =  0.5638966480446927\n",
            "precision =  0.5478823529411765\n",
            "recall =  0.8470738029193761\n",
            "f1 score =  0.6653926523905628\n"
          ],
          "name": "stdout"
        }
      ]
    },
    {
      "cell_type": "code",
      "metadata": {
        "id": "-Uomnp2PMrU0"
      },
      "source": [
        ""
      ],
      "execution_count": null,
      "outputs": []
    }
  ]
}